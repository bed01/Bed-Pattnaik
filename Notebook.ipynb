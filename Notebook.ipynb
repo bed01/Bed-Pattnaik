{
 "cells": [
  {
   "cell_type": "markdown",
   "id": "f957dd42-4cf1-4c02-80c8-2f744fbb5b1c",
   "metadata": {},
   "source": [
    "My 1st Notebook Script"
   ]
  },
  {
   "cell_type": "code",
   "execution_count": 1,
   "id": "d86ae698-3303-47d8-a2d6-e5cb17f51788",
   "metadata": {},
   "outputs": [
    {
     "name": "stdout",
     "output_type": "stream",
     "text": [
      "hello india\n"
     ]
    }
   ],
   "source": [
    "print(\"hello india\")"
   ]
  },
  {
   "cell_type": "code",
   "execution_count": 2,
   "id": "74bb7f73-480a-400f-a79f-b114f2669ba9",
   "metadata": {},
   "outputs": [
    {
     "name": "stdout",
     "output_type": "stream",
     "text": [
      "3\n"
     ]
    }
   ],
   "source": [
    "a=1\n",
    "b=2\n",
    "print(a+b)"
   ]
  },
  {
   "cell_type": "code",
   "execution_count": null,
   "id": "9cbd2543-441c-4345-b05c-e9aff086b1c1",
   "metadata": {},
   "outputs": [],
   "source": []
  }
 ],
 "metadata": {
  "kernelspec": {
   "display_name": "Python",
   "language": "python",
   "name": "conda-env-python-py"
  },
  "language_info": {
   "codemirror_mode": {
    "name": "ipython",
    "version": 3
   },
   "file_extension": ".py",
   "mimetype": "text/x-python",
   "name": "python",
   "nbconvert_exporter": "python",
   "pygments_lexer": "ipython3",
   "version": "3.7.12"
  }
 },
 "nbformat": 4,
 "nbformat_minor": 5
}
